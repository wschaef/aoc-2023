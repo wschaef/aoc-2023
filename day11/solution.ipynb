{
 "cells": [
  {
   "cell_type": "code",
   "execution_count": 50,
   "metadata": {},
   "outputs": [],
   "source": [
    "# read intput.txt\n",
    "lines = []\n",
    "with open(\"input.txt\") as f:\n",
    "    lines = f.readlines()\n",
    "    lines = [list(line.strip()) for line in lines]"
   ]
  },
  {
   "cell_type": "code",
   "execution_count": 51,
   "metadata": {},
   "outputs": [],
   "source": [
    "def plot_grid(grid):\n",
    "    for row in grid:\n",
    "        print(\"\".join(row))\n",
    "    print(\"-------------------\")"
   ]
  },
  {
   "cell_type": "code",
   "execution_count": 55,
   "metadata": {},
   "outputs": [
    {
     "name": "stdout",
     "output_type": "stream",
     "text": [
      "part1: 9742154\n",
      "part2: 411142919886\n"
     ]
    }
   ],
   "source": [
    "# compute shorest path between two points given (x1,y1) and (x2,y2) by adding the differences in x and y and adding 1 if an empty row or column is between the two points\n",
    "def shortest_path(start, end, empty_rows, empty_columns, expansion_factor):\n",
    "    x1, y1 = start\n",
    "    x2, y2 = end\n",
    "    path = 0\n",
    "    # if an empty row or column is between the two points, add 1 to the path\n",
    "    path_range = []\n",
    "    if x1 > x2:\n",
    "        path_range = range(x2, x1)\n",
    "    else:\n",
    "        path_range = range(x1, x2)\n",
    "\n",
    "    for i in path_range:\n",
    "        if i in empty_rows:\n",
    "            path += 1\n",
    "\n",
    "    if y1 > y2:\n",
    "        path_range = range(y2, y1)\n",
    "    else:\n",
    "        path_range = range(y1, y2)\n",
    "\n",
    "    for j in path_range:\n",
    "        if j in empty_columns:\n",
    "            path += 1\n",
    "\n",
    "    return abs(x1 - x2) + abs(y1 - y2) + path * (expansion_factor - 1)\n",
    "\n",
    "\n",
    "# get all the galaxies in the grid by filtering for \"#\"\n",
    "def get_all_galaxies(grid):\n",
    "    galaxies = []\n",
    "    for i in range(len(grid)):\n",
    "        for j in range(len(grid[0])):\n",
    "            if grid[i][j] == \"#\":\n",
    "                galaxies.append((i, j))\n",
    "    return galaxies\n",
    "\n",
    "\n",
    "# get empty rows and columns without side effects on grid\n",
    "def get_emty_rows_columns(grid):\n",
    "    empty_rows = empty_columns = [\n",
    "        i for i, row in enumerate(grid) if all(cell == \".\" for cell in row)\n",
    "    ]\n",
    "    transposed = [list(row) for row in zip(*grid)]\n",
    "    empty_columns = [\n",
    "        i for i, col in enumerate(transposed) if all(cell == \".\" for cell in col)\n",
    "    ]\n",
    "    return empty_rows, empty_columns\n",
    "\n",
    "\n",
    "# compute the shortest path between all the galaxies and return them as a list, path is not directed\n",
    "def get_all_paths(galaxies, empty_rows, empty_columns, expansion_factor):\n",
    "    all_paths = []\n",
    "    for i in range(len(galaxies)):\n",
    "        for j in range(i + 1, len(galaxies)):\n",
    "            all_paths.append(\n",
    "                shortest_path(\n",
    "                    galaxies[i],\n",
    "                    galaxies[j],\n",
    "                    empty_rows,\n",
    "                    empty_columns,\n",
    "                    expansion_factor,\n",
    "                )\n",
    "            )\n",
    "    return all_paths\n",
    "\n",
    "\n",
    "def solve_part1(grid):\n",
    "    empty_rows, empty_columns = get_emty_rows_columns(grid)\n",
    "    galaxies = get_all_galaxies(grid)\n",
    "    all_paths = get_all_paths(galaxies, empty_rows, empty_columns, 2)\n",
    "    print(\"part1:\", sum(all_paths))\n",
    "\n",
    "\n",
    "def solve_part2(grid):\n",
    "    empty_rows, empty_columns = get_emty_rows_columns(grid)\n",
    "    galaxies = get_all_galaxies(grid)\n",
    "    all_paths = get_all_paths(galaxies, empty_rows, empty_columns, 1000000)\n",
    "    print(\"part2:\", sum(all_paths))\n",
    "\n",
    "\n",
    "solve_part1(lines)\n",
    "solve_part2(lines)"
   ]
  }
 ],
 "metadata": {
  "kernelspec": {
   "display_name": "Python 3",
   "language": "python",
   "name": "python3"
  },
  "language_info": {
   "codemirror_mode": {
    "name": "ipython",
    "version": 3
   },
   "file_extension": ".py",
   "mimetype": "text/x-python",
   "name": "python",
   "nbconvert_exporter": "python",
   "pygments_lexer": "ipython3",
   "version": "3.11.6"
  }
 },
 "nbformat": 4,
 "nbformat_minor": 2
}
