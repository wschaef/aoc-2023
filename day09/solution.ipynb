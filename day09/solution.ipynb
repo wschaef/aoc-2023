{
 "cells": [
  {
   "cell_type": "code",
   "execution_count": 68,
   "metadata": {},
   "outputs": [],
   "source": [
    "#read intput.txt\n",
    "lines = []\n",
    "with open('input.txt') as f:\n",
    "    lines = f.readlines()\n",
    "    lines = [line.strip() for line in lines]\n"
   ]
  },
  {
   "cell_type": "code",
   "execution_count": 69,
   "metadata": {},
   "outputs": [
    {
     "name": "stdout",
     "output_type": "stream",
     "text": [
      "part1:  1798691765\n",
      "part1:  1104\n"
     ]
    }
   ],
   "source": [
    "# split lines by space and convert every value to int\n",
    "\n",
    "input = [[int(x) for x in line.split(' ')] for line in lines]\n",
    "\n",
    "def compute_diffs(line):\n",
    "    new_line = []\n",
    "    for i,v in enumerate(line):\n",
    "        # compute the difference between neighboring values and return the new list of differences\n",
    "        if i == 0:\n",
    "            continue\n",
    "        else:\n",
    "            new_line.append(v - line[i-1])\n",
    "\n",
    "    return new_line\n",
    "\n",
    "# get two lists line1 and line2 and append to the first list sum of last value of the first and last value of the second list\n",
    "def combine(line1, line2, back = False):\n",
    "    if back:\n",
    "        line1.insert(0, line1[0] - line2[0])\n",
    "    else:\n",
    "        line1.append(line1[-1] + line2[-1])\n",
    "    return line1\n",
    "\n",
    "# recursive function invocing compute_diffs until the list contains only 0s\n",
    "def process(line, cache = [], back = False):\n",
    "    if cache == []:\n",
    "        cache.append(line)\n",
    "    new_line = compute_diffs(line)\n",
    "    if all(v == 0 for v in new_line):\n",
    "        # remove last element of the cache combine it with its previous element and replace the it with the combined list until the cache contains only one element\n",
    "        while len(cache) > 1:\n",
    "            cache[-2] = combine(cache[-2], cache[-1], back)\n",
    "            cache.pop()\n",
    "        return cache[0]\n",
    "    else:\n",
    "        cache.append(new_line)\n",
    "        return process(new_line, cache, back)\n",
    "    \n",
    "def solve_part1(input):\n",
    "    result = 0\n",
    "    for line in input:\n",
    "        result += process(line,[], False)[-1]\n",
    "    print(\"part1: \", result)\n",
    "\n",
    "def solve_part2(input):\n",
    "    result = 0\n",
    "    for line in input:\n",
    "        result += process(line,[], True)[0]\n",
    "    print(\"part1: \", result)\n",
    "\n",
    "solve_part1(input)\n",
    "solve_part2(input)\n",
    "\n"
   ]
  }
 ],
 "metadata": {
  "kernelspec": {
   "display_name": "Python 3",
   "language": "python",
   "name": "python3"
  },
  "language_info": {
   "codemirror_mode": {
    "name": "ipython",
    "version": 3
   },
   "file_extension": ".py",
   "mimetype": "text/x-python",
   "name": "python",
   "nbconvert_exporter": "python",
   "pygments_lexer": "ipython3",
   "version": "3.11.6"
  }
 },
 "nbformat": 4,
 "nbformat_minor": 2
}
