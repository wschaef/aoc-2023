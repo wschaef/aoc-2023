{
 "cells": [
  {
   "cell_type": "code",
   "execution_count": 34,
   "metadata": {},
   "outputs": [
    {
     "name": "stdout",
     "output_type": "stream",
     "text": [
      "55971\n"
     ]
    }
   ],
   "source": [
    "#Solution for part 1 \n",
    "#read intput.txt\n",
    "lines = []\n",
    "with open('input.txt') as f:\n",
    "    lines = f.readlines()\n",
    "    lines = [line.strip() for line in lines]\n",
    "\n",
    "# map lines to contain only digits and striping chars using lambda function\n",
    "lines = list(map(lambda x: ''.join([i for i in x if i.isdigit()]), lines))\n",
    "lines = list(map(lambda x: int(x[0]+ x[-1]), lines))\n",
    "\n",
    "print(sum(lines))"
   ]
  },
  {
   "cell_type": "code",
   "execution_count": 36,
   "metadata": {},
   "outputs": [
    {
     "name": "stdout",
     "output_type": "stream",
     "text": [
      "54719\n"
     ]
    }
   ],
   "source": [
    "#Solution for part 2\n",
    "with open('input.txt') as f:\n",
    "    lines = f.read().splitlines()\n",
    "\n",
    "digit_map = {\n",
    "    'zero': 'zero0zero',\n",
    "    'one': 'one1one',\n",
    "    'two': 'two2two',\n",
    "    'three': 'three3tree',\n",
    "    'four': 'four4four',\n",
    "    'five': 'five5five',\n",
    "    'six': 'six6six',\n",
    "    'seven': 'seven7seven',\n",
    "    'eight': 'eight8eight',\n",
    "    'nine': 'nine9nine'\n",
    "}\n",
    "\n",
    "# map lines to contain only digits and striping chars using loop\n",
    "for i in range(len(lines)):\n",
    "    for key, value in digit_map.items():\n",
    "        lines[i] = lines[i].replace(key, value)\n",
    "\n",
    "\n",
    "# map lines to contain only digits and striping chars using lambda function\n",
    "lines = (''.join(filter(str.isdigit, line)) for line in lines)\n",
    "total = sum(int(line[0] + line[-1]) for line in lines if line)\n",
    "\n",
    "print(total)\n"
   ]
  }
 ],
 "metadata": {
  "kernelspec": {
   "display_name": "Python 3",
   "language": "python",
   "name": "python3"
  },
  "language_info": {
   "codemirror_mode": {
    "name": "ipython",
    "version": 3
   },
   "file_extension": ".py",
   "mimetype": "text/x-python",
   "name": "python",
   "nbconvert_exporter": "python",
   "pygments_lexer": "ipython3",
   "version": "3.11.6"
  }
 },
 "nbformat": 4,
 "nbformat_minor": 2
}
