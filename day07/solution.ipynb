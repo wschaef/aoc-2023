{
 "cells": [
  {
   "cell_type": "code",
   "execution_count": 26,
   "metadata": {},
   "outputs": [],
   "source": [
    "# read intput.txt\n",
    "def parse_data(filename=\"input1.txt\"):\n",
    "    lines = []\n",
    "    mapChar = str.maketrans(\"AKQJT\", \"EDCBA\")\n",
    "    with open(filename) as f:\n",
    "        lines = f.readlines()\n",
    "        lines = [line.strip().split(\" \") for line in lines]\n",
    "    data = [{\"hand\": line[0].translate(mapChar), \"bid\": int(line[1])} for line in lines]\n",
    "    return data"
   ]
  },
  {
   "cell_type": "code",
   "execution_count": 27,
   "metadata": {},
   "outputs": [
    {
     "name": "stdout",
     "output_type": "stream",
     "text": [
      "Part 1: 249638405\n"
     ]
    }
   ],
   "source": [
    "from collections import Counter\n",
    "from itertools import groupby\n",
    "\n",
    "data = parse_data(\"input.txt\")\n",
    "\n",
    "for entry in data:\n",
    "    hand = entry[\"hand\"]\n",
    "    counters = sorted(Counter(hand).values(), reverse=True)\n",
    "    entry[\"counters\"] = \"\".join(str(c) for c in counters)\n",
    "\n",
    "# sort by counters makes groupby more efficient we can avoid sorting by key after groupby\n",
    "data.sort(key=lambda x: x[\"counters\"])\n",
    "# group hands by counters\n",
    "data = groupby(data, lambda x: x[\"counters\"])\n",
    "\n",
    "winners = []\n",
    "for key, group in data:\n",
    "    # sort group by hand, categories are already sorted\n",
    "    winners.append(sorted(list(group), key=lambda x: x[\"hand\"], reverse=False))\n",
    "\n",
    "# flatten winners\n",
    "winners = [item for sublist in winners for item in sublist]\n",
    "result = sum([hand[\"bid\"] * (i + 1) for i, hand in enumerate(winners)])\n",
    "\n",
    "print(\"Part 1:\", result)"
   ]
  },
  {
   "cell_type": "code",
   "execution_count": 28,
   "metadata": {},
   "outputs": [
    {
     "name": "stdout",
     "output_type": "stream",
     "text": [
      "Part 2: 249776650\n"
     ]
    }
   ],
   "source": [
    "from collections import Counter\n",
    "from itertools import groupby\n",
    "\n",
    "data = parse_data(\"input.txt\")\n",
    "\n",
    "for entry in data:\n",
    "    hand = entry[\"hand\"]\n",
    "    if \"B\" in hand:\n",
    "        hand = hand.replace(\"B\", \"1\")\n",
    "        entry[\"hand\"] = hand\n",
    "    counters = Counter(hand)\n",
    "    counters_values = sorted(counters.values(), reverse=True)\n",
    "    if \"1\" in counters.keys() and len(counters) > 1:\n",
    "        jokers = counters.pop(\"1\")\n",
    "        counters_values = sorted(counters.values(), reverse=True)\n",
    "        # add jocker to the highest counter\n",
    "        counters_values[0] += jokers\n",
    "    entry[\"counters\"] = \"\".join(str(c) for c in counters_values)\n",
    "\n",
    "# sort by counters makes groupby more efficient we can avoid sorting by key after groupby\n",
    "data.sort(key=lambda x: x[\"counters\"])\n",
    "# group hands by counters\n",
    "data = groupby(data, lambda x: x[\"counters\"])\n",
    "\n",
    "winners = []\n",
    "for key, group in data:\n",
    "    # sort group by hand, categories are already sorted\n",
    "    winners.append(sorted(list(group), key=lambda x: x[\"hand\"], reverse=False))\n",
    "\n",
    "# flatten winners\n",
    "winners = [item for sublist in winners for item in sublist]\n",
    "result = sum([hand[\"bid\"] * (i + 1) for i, hand in enumerate(winners)])\n",
    "\n",
    "print(\"Part 2:\", result)"
   ]
  },
  {
   "cell_type": "code",
   "execution_count": null,
   "metadata": {},
   "outputs": [],
   "source": []
  }
 ],
 "metadata": {
  "kernelspec": {
   "display_name": "Python 3",
   "language": "python",
   "name": "python3"
  },
  "language_info": {
   "codemirror_mode": {
    "name": "ipython",
    "version": 3
   },
   "file_extension": ".py",
   "mimetype": "text/x-python",
   "name": "python",
   "nbconvert_exporter": "python",
   "pygments_lexer": "ipython3",
   "version": "3.11.6"
  }
 },
 "nbformat": 4,
 "nbformat_minor": 2
}
