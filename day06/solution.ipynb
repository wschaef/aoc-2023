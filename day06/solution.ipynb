{
 "cells": [
  {
   "cell_type": "code",
   "execution_count": 89,
   "metadata": {},
   "outputs": [
    {
     "name": "stdout",
     "output_type": "stream",
     "text": [
      "Part1: 1413720\n",
      "Part2: 30565288\n"
     ]
    }
   ],
   "source": [
    "import math\n",
    "\n",
    "#read intput.txt\n",
    "def read_input():\n",
    "    lines = []\n",
    "    with open('input.txt') as f:\n",
    "        lines = f.readlines()\n",
    "    return lines\n",
    "\n",
    "def f(x,t,d):\n",
    "    return x * (t-x) - d # f(x) = -x^2 + tx - d\n",
    "\n",
    "# 0=ax^2+bx+c\n",
    "def intersections_with_x_axis(t,d):\n",
    "    a = - 1\n",
    "    b = t\n",
    "    c = -d\n",
    "    delta = b**2 - 4*a*c\n",
    "    if delta < 0:\n",
    "        return []\n",
    "    elif delta == 0:\n",
    "        return [-b/(2*a)]\n",
    "    else:\n",
    "        return [math.ceil((-b-delta**0.5)/(2*a))-1, math.floor((-b+delta**0.5)/(2*a))+1]\n",
    "\n",
    "# PART 1\n",
    "def parse_input1(lines):\n",
    "        input = [line.strip().split()[1:] for line in lines]\n",
    "        input = [[int(x) for x in line] for line in input]\n",
    "        input = list(zip(*input))\n",
    "        return input\n",
    "\n",
    "def solve_part1(input):\n",
    "    boundaries = []\n",
    "    for line in input:\n",
    "        t = line[0]\n",
    "        d = line[1]\n",
    "        boundaries.append(intersections_with_x_axis(t,d))\n",
    "    # multiply all results\n",
    "    result = 1 \n",
    "    for b in boundaries:\n",
    "        result *= b[0]-b[1] + 1\n",
    "    print(\"Part1:\", result)\n",
    "        \n",
    "lines = read_input()\n",
    "input1 = parse_input1(lines)\n",
    "\n",
    "solve_part1(input1)\n",
    "\n",
    "# PART 2\n",
    "def parse_input2(lines):\n",
    "        # replace all \" \" with \"\"\n",
    "        input = [line.replace(\" \",\"\").split(\":\")[1:] for line in lines]\n",
    "        input = [int(x) for line in input for x in line]\n",
    "        return input\n",
    "\n",
    "def solve_part2(input):\n",
    "    t = input[0]\n",
    "    d = input[1]\n",
    "    boundary = intersections_with_x_axis(t,d)\n",
    "    result = boundary[0]-boundary[1] + 1\n",
    "    print(\"Part2:\", result)\n",
    "\n",
    "\n",
    "input2 = parse_input2(lines)\n",
    "solve_part2(input2)\n"
   ]
  }
 ],
 "metadata": {
  "kernelspec": {
   "display_name": "Python 3",
   "language": "python",
   "name": "python3"
  },
  "language_info": {
   "codemirror_mode": {
    "name": "ipython",
    "version": 3
   },
   "file_extension": ".py",
   "mimetype": "text/x-python",
   "name": "python",
   "nbconvert_exporter": "python",
   "pygments_lexer": "ipython3",
   "version": "3.11.6"
  }
 },
 "nbformat": 4,
 "nbformat_minor": 2
}
