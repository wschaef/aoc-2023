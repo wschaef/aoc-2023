{
 "cells": [
  {
   "cell_type": "code",
   "execution_count": 1,
   "metadata": {},
   "outputs": [],
   "source": [
    "# read intput.txt\n",
    "def read_input(fileName):\n",
    "    patterns = []\n",
    "    with open(fileName) as f:\n",
    "        # split be an empty line\n",
    "        patterns = [list(pattern.split(\"\\n\")) for pattern in f.read().split(\"\\n\\n\")]\n",
    "    return patterns"
   ]
  },
  {
   "cell_type": "code",
   "execution_count": 33,
   "metadata": {},
   "outputs": [
    {
     "name": "stdout",
     "output_type": "stream",
     "text": [
      "part1 35210\n",
      "part2 31974\n"
     ]
    }
   ],
   "source": [
    "def find_horizontal_mirror(pattern, ignore_mirror=-1):\n",
    "    for i in range(len(pattern))[1:]:\n",
    "        if i == ignore_mirror:\n",
    "            continue  # given mirror is ignored\n",
    "        north = pattern[:i][::-1]  # reverse sublist\n",
    "        south = pattern[i:]\n",
    "        # check if north is in south or south is in north\n",
    "        if north == south[: len(north)] or south == north[: len(south)]:\n",
    "            return i\n",
    "    return -1\n",
    "\n",
    "\n",
    "def find_vertical_mirror(pattern, ignore_mirror=-1):\n",
    "    # transpose the pattern\n",
    "    transponsed = list(map(list, zip(*pattern)))\n",
    "    return find_horizontal_mirror(transponsed, ignore_mirror)\n",
    "\n",
    "\n",
    "def solve_part1(filename):\n",
    "    patterns = read_input(filename)\n",
    "    result = 0\n",
    "    for pattern in patterns:\n",
    "        i = find_horizontal_mirror(pattern)\n",
    "        if i != -1:\n",
    "            result += i * 100\n",
    "        else:\n",
    "            j = find_vertical_mirror(pattern)\n",
    "            if j != -1:\n",
    "                result += j\n",
    "\n",
    "    print(\"part1\", result)\n",
    "\n",
    "\n",
    "def repair_smugle(pattern, i, j):\n",
    "    new_pattern = pattern.copy()\n",
    "    row = pattern[i]\n",
    "    new_pattern[i] = row[:j] + (\"#\" if row[j] == \".\" else \".\") + row[j + 1 :]\n",
    "    return new_pattern\n",
    "\n",
    "\n",
    "def solve_part2(filename):\n",
    "    patterns = read_input(filename)\n",
    "    result = 0\n",
    "    for pattern in patterns:\n",
    "        mirrow_found = False\n",
    "        for i in range(len(pattern)):\n",
    "            for j in range(len(pattern[0])):\n",
    "                # first get the mirror line before repairing to irgnore it in the mirror search\n",
    "                x1 = find_horizontal_mirror(pattern)\n",
    "                repaired_pattern = repair_smugle(pattern, i, j)\n",
    "                x2 = find_horizontal_mirror(repaired_pattern, x1)\n",
    "                if x2 != -1 and (x1 != x2):\n",
    "                    result += x2 * 100\n",
    "                    mirrow_found = True\n",
    "                    break\n",
    "                else:\n",
    "                    y1 = find_vertical_mirror(pattern)\n",
    "                    y2 = find_vertical_mirror(repaired_pattern, y1)\n",
    "                    if y2 != -1 and (y1 != y2):\n",
    "                        result += y2\n",
    "                        mirrow_found = True\n",
    "                        break\n",
    "            if mirrow_found:\n",
    "                break\n",
    "        if not mirrow_found:\n",
    "            print(\"no mirror found\")\n",
    "    print(\"part2\", result)\n",
    "\n",
    "\n",
    "solve_part1(\"input.txt\")\n",
    "solve_part2(\"input.txt\")"
   ]
  }
 ],
 "metadata": {
  "kernelspec": {
   "display_name": "Python 3",
   "language": "python",
   "name": "python3"
  },
  "language_info": {
   "codemirror_mode": {
    "name": "ipython",
    "version": 3
   },
   "file_extension": ".py",
   "mimetype": "text/x-python",
   "name": "python",
   "nbconvert_exporter": "python",
   "pygments_lexer": "ipython3",
   "version": "3.11.6"
  }
 },
 "nbformat": 4,
 "nbformat_minor": 2
}
