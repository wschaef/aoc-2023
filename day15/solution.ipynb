{
 "cells": [
  {
   "cell_type": "code",
   "execution_count": 9,
   "metadata": {},
   "outputs": [],
   "source": [
    "# read intput.txt\n",
    "def read_input(fileName):\n",
    "    lines = []\n",
    "    with open(fileName) as f:\n",
    "        lines = f.readlines()\n",
    "        lines = [line.strip().split(\",\") for line in lines][0]\n",
    "    return lines"
   ]
  },
  {
   "cell_type": "code",
   "execution_count": 11,
   "metadata": {},
   "outputs": [
    {
     "name": "stdout",
     "output_type": "stream",
     "text": [
      "30\n",
      "253\n",
      "97\n",
      "47\n",
      "14\n",
      "180\n",
      "9\n",
      "197\n",
      "48\n",
      "214\n",
      "231\n"
     ]
    }
   ],
   "source": [
    "def hash_algorithm(input_string):\n",
    "    value = 0\n",
    "    for char in input_string:\n",
    "        value += ord(char)\n",
    "        value *= 17\n",
    "        value %= 256\n",
    "    return value\n",
    "\n",
    "\n",
    "def solve_part1(filename):\n",
    "    input = read_input(filename)\n",
    "    for step in input:\n",
    "        print(hash_algorithm(step))\n",
    "\n",
    "\n",
    "solve_part1(\"input1.txt\")"
   ]
  }
 ],
 "metadata": {
  "kernelspec": {
   "display_name": "Python 3",
   "language": "python",
   "name": "python3"
  },
  "language_info": {
   "codemirror_mode": {
    "name": "ipython",
    "version": 3
   },
   "file_extension": ".py",
   "mimetype": "text/x-python",
   "name": "python",
   "nbconvert_exporter": "python",
   "pygments_lexer": "ipython3",
   "version": "3.11.6"
  }
 },
 "nbformat": 4,
 "nbformat_minor": 2
}
