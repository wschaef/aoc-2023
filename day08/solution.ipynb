{
 "cells": [
  {
   "cell_type": "code",
   "execution_count": 41,
   "metadata": {},
   "outputs": [],
   "source": [
    "#read intput.txt\n",
    "lines = []\n",
    "with open('input.txt') as f:\n",
    "    lines = f.readlines()\n",
    "    lines = [line.strip() for line in lines]\n"
   ]
  },
  {
   "cell_type": "code",
   "execution_count": 49,
   "metadata": {},
   "outputs": [
    {
     "name": "stdout",
     "output_type": "stream",
     "text": [
      "Part1: 19951\n",
      "Part2: 16342438708751\n"
     ]
    }
   ],
   "source": [
    "import re\n",
    "import math\n",
    "\n",
    "def parse_input(lines):\n",
    "    instructions = list(lines[0])\n",
    "    network = {}\n",
    "    for line in lines[2:]:\n",
    "        matches = re.findall(r'\\w+', line)\n",
    "        network[matches[0]] = {\"L\":matches[1], \"R\":matches[2]}\n",
    "    return instructions, network\n",
    "\n",
    "def next_instruction(instructions):\n",
    "    # take the fist instruction and put it at the end\n",
    "    instruction = instructions.pop(0)\n",
    "    instructions.append(instruction)\n",
    "    return instruction\n",
    "\n",
    "def solve_part1(instructions, network):\n",
    "    steps = 0\n",
    "    node = \"AAA\"\n",
    "    # do while loop until node is \"ZZZ\" using instructions and network\n",
    "    while node != \"ZZZ\":\n",
    "        steps += 1\n",
    "        instruction = next_instruction(instructions)\n",
    "        node = network[node][instruction]\n",
    "    print(\"Part1:\", steps)\n",
    "\n",
    "# idea of part2 two is to calculate the steps for each input node independently\n",
    "# and then find the least common multiple of all the steps\n",
    "def solve_part2(instructions, network):\n",
    "    steps = 0\n",
    "    # find all nodes that end with A\n",
    "    nodes = [node for node in network.keys() if list(node)[-1] == \"A\"]\n",
    "    statistics = []\n",
    "    for node in nodes:\n",
    "        while node[-1] != \"Z\":\n",
    "            steps += 1\n",
    "            instruction = next_instruction(instructions)\n",
    "            node = network[node][instruction]\n",
    "        statistics.append(steps)\n",
    "        steps = 0\n",
    "    print(\"Part2:\", math.lcm(*statistics))\n",
    "\n",
    "instructions, network = parse_input(lines)\n",
    "solve_part1(instructions, network)\n",
    "solve_part2(instructions, network)\n",
    "\n",
    "\n"
   ]
  }
 ],
 "metadata": {
  "kernelspec": {
   "display_name": "Python 3",
   "language": "python",
   "name": "python3"
  },
  "language_info": {
   "codemirror_mode": {
    "name": "ipython",
    "version": 3
   },
   "file_extension": ".py",
   "mimetype": "text/x-python",
   "name": "python",
   "nbconvert_exporter": "python",
   "pygments_lexer": "ipython3",
   "version": "3.11.6"
  }
 },
 "nbformat": 4,
 "nbformat_minor": 2
}
