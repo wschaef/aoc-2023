{
 "cells": [
  {
   "cell_type": "code",
   "execution_count": 70,
   "metadata": {},
   "outputs": [],
   "source": [
    "#read intput.txt\n",
    "lines = []\n",
    "with open('input.txt') as f:\n",
    "    lines = f.readlines()\n",
    "    lines = [line.strip() for line in lines]\n"
   ]
  },
  {
   "cell_type": "code",
   "execution_count": 73,
   "metadata": {},
   "outputs": [
    {
     "name": "stdout",
     "output_type": "stream",
     "text": [
      "Part1 25183\n",
      "Part2 5667240\n"
     ]
    }
   ],
   "source": [
    "def process_lines(lines):\n",
    "    cards = []\n",
    "    for line in lines:\n",
    "        key, value = line.split(\": \")\n",
    "        value_parts = [set(v.strip().split()) for v in value.split(\" | \")]\n",
    "        cards.append(\n",
    "            {\n",
    "                \"key\": key,\n",
    "                \"winning_numbers\": value_parts[0],\n",
    "                \"my_numbers\": value_parts[1],\n",
    "            }\n",
    "        )\n",
    "    return cards\n",
    "\n",
    "\n",
    "def count_wins(cards):\n",
    "    for card in cards:\n",
    "        card[\"wins\"] = sum(\n",
    "            1 for number in card[\"winning_numbers\"] if number in card[\"my_numbers\"]\n",
    "        )\n",
    "\n",
    "\n",
    "def calculate_result_part1(cards):\n",
    "    return sum(2 ** (card[\"wins\"] - 1) for card in cards if card[\"wins\"] > 0)\n",
    "\n",
    "\n",
    "def calculate_result_part2(cards):\n",
    "    result = 0\n",
    "    counts = {0: 1}\n",
    "    for i, card in enumerate(cards):\n",
    "        count = counts.get(i, 1)\n",
    "        if card[\"wins\"] > 0:\n",
    "            for j in range(i + 1, i + card[\"wins\"] + 1):\n",
    "                counts[j] = counts.get(j, 1) + count\n",
    "        result += count\n",
    "    return result\n",
    "\n",
    "\n",
    "cards = process_lines(lines)\n",
    "count_wins(cards)\n",
    "result_part1 = calculate_result_part1(cards)\n",
    "result_part2 = calculate_result_part2(cards)\n",
    "\n",
    "print(\"Part1\", result_part1)\n",
    "print(\"Part2\", result_part2)\n",
    "\n"
   ]
  }
 ],
 "metadata": {
  "kernelspec": {
   "display_name": "Python 3",
   "language": "python",
   "name": "python3"
  },
  "language_info": {
   "codemirror_mode": {
    "name": "ipython",
    "version": 3
   },
   "file_extension": ".py",
   "mimetype": "text/x-python",
   "name": "python",
   "nbconvert_exporter": "python",
   "pygments_lexer": "ipython3",
   "version": "3.11.6"
  }
 },
 "nbformat": 4,
 "nbformat_minor": 2
}
