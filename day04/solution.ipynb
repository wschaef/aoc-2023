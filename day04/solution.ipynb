{
 "cells": [
  {
   "cell_type": "code",
   "execution_count": 29,
   "metadata": {},
   "outputs": [],
   "source": [
    "#read intput.txt\n",
    "lines = []\n",
    "with open('input2.txt') as f:\n",
    "    lines = f.readlines()\n",
    "    lines = [line.strip() for line in lines]\n"
   ]
  },
  {
   "cell_type": "code",
   "execution_count": 37,
   "metadata": {},
   "outputs": [
    {
     "ename": "AttributeError",
     "evalue": "'dict' object has no attribute 'winning_numbers'",
     "output_type": "error",
     "traceback": [
      "\u001b[0;31m---------------------------------------------------------------------------\u001b[0m",
      "\u001b[0;31mAttributeError\u001b[0m                            Traceback (most recent call last)",
      "\u001b[1;32m/Users/A118193756/dev/github/aoc-2023/day04/solution.ipynb Cell 2\u001b[0m line \u001b[0;36m1\n\u001b[1;32m     <a href='vscode-notebook-cell:/Users/A118193756/dev/github/aoc-2023/day04/solution.ipynb#W1sZmlsZQ%3D%3D?line=14'>15</a>\u001b[0m \u001b[39mfor\u001b[39;00m card \u001b[39min\u001b[39;00m d:\n\u001b[1;32m     <a href='vscode-notebook-cell:/Users/A118193756/dev/github/aoc-2023/day04/solution.ipynb#W1sZmlsZQ%3D%3D?line=15'>16</a>\u001b[0m     count \u001b[39m=\u001b[39m \u001b[39m0\u001b[39m\n\u001b[0;32m---> <a href='vscode-notebook-cell:/Users/A118193756/dev/github/aoc-2023/day04/solution.ipynb#W1sZmlsZQ%3D%3D?line=16'>17</a>\u001b[0m     \u001b[39mfor\u001b[39;00m a \u001b[39min\u001b[39;00m card\u001b[39m.\u001b[39;49mwinning_numbers:\n\u001b[1;32m     <a href='vscode-notebook-cell:/Users/A118193756/dev/github/aoc-2023/day04/solution.ipynb#W1sZmlsZQ%3D%3D?line=17'>18</a>\u001b[0m         \u001b[39mif\u001b[39;00m a \u001b[39min\u001b[39;00m d\u001b[39m.\u001b[39mmy_numbers:\n\u001b[1;32m     <a href='vscode-notebook-cell:/Users/A118193756/dev/github/aoc-2023/day04/solution.ipynb#W1sZmlsZQ%3D%3D?line=18'>19</a>\u001b[0m             count \u001b[39m+\u001b[39m\u001b[39m=\u001b[39m \u001b[39m1\u001b[39m\n",
      "\u001b[0;31mAttributeError\u001b[0m: 'dict' object has no attribute 'winning_numbers'"
     ]
    }
   ],
   "source": [
    "# split lines by : and split second part by |\n",
    "# and store in a dict\n",
    "d = []\n",
    "for line in lines:\n",
    "    line = line.split(':')\n",
    "    key = line[0]\n",
    "    value = line[1].split('|')\n",
    "    value = [v.strip().split(' ') for v in value]\n",
    "    value = [set(v) for v in value ]\n",
    "    # remove empty values for both parts\n",
    "    d.append({\"key\": key, \"winning_numbers\": value[0], \"my_numbers\": value[1]})\n",
    "\n",
    "# iterate over dict values and calculate the number of elements in the first part of the list is in the range of the second part of the list\n",
    "result = 0\n",
    "for card in d:\n",
    "    count = 0\n",
    "    for a in card.winning_numbers:\n",
    "        if a in d.my_numbers:\n",
    "            count += 1\n",
    "    card[\"count\"] = count\n",
    "    if count > 0:\n",
    "        result += 2**(count-1)\n",
    "    print(key, value, count)\n",
    "\n",
    "print(\"Part1\",result)\n",
    "\n"
   ]
  }
 ],
 "metadata": {
  "kernelspec": {
   "display_name": "Python 3",
   "language": "python",
   "name": "python3"
  },
  "language_info": {
   "codemirror_mode": {
    "name": "ipython",
    "version": 3
   },
   "file_extension": ".py",
   "mimetype": "text/x-python",
   "name": "python",
   "nbconvert_exporter": "python",
   "pygments_lexer": "ipython3",
   "version": "3.11.6"
  }
 },
 "nbformat": 4,
 "nbformat_minor": 2
}
