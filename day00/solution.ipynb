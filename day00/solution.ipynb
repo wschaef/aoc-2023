{
 "cells": [
  {
   "cell_type": "code",
   "execution_count": 6,
   "metadata": {},
   "outputs": [],
   "source": [
    "#read intput.txt\n",
    "lines = []\n",
    "with open('input.txt') as f:\n",
    "    lines = f.readlines()\n",
    "    lines = [line.strip() for line in lines]\n"
   ]
  },
  {
   "cell_type": "code",
   "execution_count": 9,
   "metadata": {},
   "outputs": [
    {
     "name": "stdout",
     "output_type": "stream",
     "text": [
      "['input', 'by', 'newline']\n",
      "['INPUT', 'BY', 'NEWLINE']\n"
     ]
    }
   ],
   "source": [
    "print(lines)\n",
    "\n",
    "# filter out lines starting with s or S using lambda function\n",
    "lines = list(filter(lambda x: x[0] != 's' and x[0] != 'S', lines))\n",
    "# map to upper case\n",
    "lines = list(map(lambda x: x.upper(), lines))\n",
    "print(lines)\n"
   ]
  }
 ],
 "metadata": {
  "kernelspec": {
   "display_name": "Python 3",
   "language": "python",
   "name": "python3"
  },
  "language_info": {
   "codemirror_mode": {
    "name": "ipython",
    "version": 3
   },
   "file_extension": ".py",
   "mimetype": "text/x-python",
   "name": "python",
   "nbconvert_exporter": "python",
   "pygments_lexer": "ipython3",
   "version": "3.11.6"
  }
 },
 "nbformat": 4,
 "nbformat_minor": 2
}
