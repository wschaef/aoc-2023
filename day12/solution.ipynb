{
 "cells": [
  {
   "cell_type": "code",
   "execution_count": 14,
   "metadata": {},
   "outputs": [],
   "source": [
    "# read intput.txt\n",
    "def read_input(fileName):\n",
    "    lines = []\n",
    "    with open(fileName) as f:\n",
    "        lines = f.readlines()\n",
    "        lines = [line.strip().split() for line in lines]\n",
    "    input = []\n",
    "    for line in lines:\n",
    "        springs, groups = line\n",
    "        springs = list(springs)\n",
    "        groups = [int(g) for g in groups.split(\",\")]\n",
    "        input.append({\"s\":springs, \"g\":groups})\n",
    "    return input"
   ]
  },
  {
   "cell_type": "code",
   "execution_count": 17,
   "metadata": {},
   "outputs": [
    {
     "name": "stdout",
     "output_type": "stream",
     "text": [
      "[{'s': ['?', '?', '?', '.', '#', '#', '#'], 'g': [1, 1, 3]}, {'s': ['.', '?', '?', '.', '.', '?', '?', '.', '.', '.', '?', '#', '#', '.'], 'g': [1, 1, 3]}, {'s': ['?', '#', '?', '#', '?', '#', '?', '#', '?', '#', '?', '#', '?', '#', '?'], 'g': [1, 3, 1, 6]}, {'s': ['?', '?', '?', '?', '.', '#', '.', '.', '.', '#', '.', '.', '.'], 'g': [4, 1, 1]}, {'s': ['?', '?', '?', '?', '.', '#', '#', '#', '#', '#', '#', '.', '.', '#', '#', '#', '#', '#', '.'], 'g': [1, 6, 5]}, {'s': ['?', '#', '#', '#', '?', '?', '?', '?', '?', '?', '?', '?'], 'g': [3, 2, 1]}]\n"
     ]
    }
   ],
   "source": [
    "def solve_part1(filename):\n",
    "    input = read_input(filename)\n",
    "    print(input)\n",
    "    pass\n",
    "\n",
    "solve_part1(\"input1.txt\")"
   ]
  }
 ],
 "metadata": {
  "kernelspec": {
   "display_name": "Python 3",
   "language": "python",
   "name": "python3"
  },
  "language_info": {
   "codemirror_mode": {
    "name": "ipython",
    "version": 3
   },
   "file_extension": ".py",
   "mimetype": "text/x-python",
   "name": "python",
   "nbconvert_exporter": "python",
   "pygments_lexer": "ipython3",
   "version": "3.11.6"
  }
 },
 "nbformat": 4,
 "nbformat_minor": 2
}
