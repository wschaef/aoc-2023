{
 "cells": [
  {
   "cell_type": "code",
   "execution_count": 34,
   "metadata": {},
   "outputs": [],
   "source": [
    "#read intput.txt\n",
    "lines = []\n",
    "with open('input.txt') as f:\n",
    "    lines = f.readlines()\n",
    "    lines = [line.strip() for line in lines]\n"
   ]
  },
  {
   "cell_type": "code",
   "execution_count": 35,
   "metadata": {},
   "outputs": [
    {
     "name": "stdout",
     "output_type": "stream",
     "text": [
      "part1:  2720\n",
      "part2:  71535\n"
     ]
    }
   ],
   "source": [
    "from functools import reduce\n",
    "import operator\n",
    "\n",
    "def process_lines(lines):\n",
    "    games = []\n",
    "    for line in lines:\n",
    "        key, value = line.split(\": \")\n",
    "        records = [record.strip().split(\", \") for record in value.split(\"; \")]\n",
    "        for record in records:\n",
    "            for i, cube in enumerate(record):\n",
    "                cube = cube.split(\" \")\n",
    "                record[i] = {\"N\": int(cube[0]), \"color\": cube[1]} \n",
    "\n",
    "        games.append(\n",
    "            {\n",
    "                \"key\": key,\n",
    "                \"records\": records,\n",
    "            }\n",
    "        )\n",
    "    return games\n",
    "\n",
    "def comp_possible(games,bag):\n",
    "    count_possible_games = 0\n",
    "    for i, games in enumerate(games):\n",
    "        records = games[\"records\"]\n",
    "        impossible = False\n",
    "        for record in records:\n",
    "            for cube in record:\n",
    "                if bag[cube[\"color\"]] < cube[\"N\"]:\n",
    "                    impossible = True\n",
    "                    break\n",
    "        if not impossible:\n",
    "            count_possible_games += i + 1 \n",
    "    return count_possible_games\n",
    "\n",
    "def solve_part1(games):\n",
    "    bag = {\"red\": 12, \"green\": 13, \"blue\": 14}\n",
    "    count_possible_games = comp_possible(games,bag)\n",
    "    print(\"part1: \", count_possible_games)\n",
    "\n",
    "def solve_part2(games):\n",
    "    result = 0\n",
    "    games_scores = []\n",
    "    for game in games:\n",
    "        min_set = {}\n",
    "        records = game[\"records\"]\n",
    "        for record in records:\n",
    "            for cube in record:\n",
    "                color = cube[\"color\"]\n",
    "                current_min = min_set.get(color, 0)\n",
    "                if current_min < cube[\"N\"]:\n",
    "                    min_set[color] = cube[\"N\"]\n",
    "        # multiply all values in min_set\n",
    "        result += reduce(lambda x, y: x * y, min_set.values()) \n",
    "    print(\"part2: \", result)  \n",
    "            \n",
    "\n",
    "games = process_lines(lines)\n",
    "solve_part1(games)\n",
    "solve_part2(games)"
   ]
  }
 ],
 "metadata": {
  "kernelspec": {
   "display_name": "Python 3",
   "language": "python",
   "name": "python3"
  },
  "language_info": {
   "codemirror_mode": {
    "name": "ipython",
    "version": 3
   },
   "file_extension": ".py",
   "mimetype": "text/x-python",
   "name": "python",
   "nbconvert_exporter": "python",
   "pygments_lexer": "ipython3",
   "version": "3.11.6"
  }
 },
 "nbformat": 4,
 "nbformat_minor": 2
}
